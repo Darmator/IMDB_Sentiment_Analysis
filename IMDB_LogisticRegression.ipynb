{
 "cells": [
  {
   "cell_type": "code",
   "execution_count": 2,
   "metadata": {},
   "outputs": [
    {
     "name": "stdout",
     "output_type": "stream",
     "text": [
      "                                              review sentiment\n",
      "0  One of the other reviewers has mentioned that ...  positive\n",
      "1  A wonderful little production. <br /><br />The...  positive\n",
      "2  I thought this was a wonderful way to spend ti...  positive\n",
      "3  Basically there's a family where a little boy ...  negative\n",
      "4  Petter Mattei's \"Love in the Time of Money\" is...  positive\n"
     ]
    },
    {
     "name": "stdout",
     "output_type": "stream",
     "text": [
      "Acc:  0.895\n"
     ]
    }
   ],
   "source": [
    "#Import libraries\n",
    "import pandas as pd\n",
    "from sklearn.model_selection import train_test_split\n",
    "from sklearn.preprocessing import LabelEncoder\n",
    "from tensorflow.python.keras.preprocessing.text import Tokenizer\n",
    "from tensorflow.python.keras.preprocessing.sequence import pad_sequences\n",
    "from sklearn.linear_model import LogisticRegression\n",
    "from sklearn.metrics import accuracy_score\n",
    "from sklearn.feature_extraction.text import TfidfVectorizer\n",
    "from sklearn.feature_extraction.text import TfidfTransformer\n",
    "from sklearn.feature_extraction.text import CountVectorizer\n",
    "\n",
    "#Get dataset from local directory\n",
    "df = pd.read_csv('D:/Programacion/Datasets/IMDB/IMDB_Dataset.csv', encoding='utf-8')\n",
    "print(df.head())\n",
    "\n",
    "#Set the dataset labels to have a numerical value\n",
    "le = LabelEncoder()\n",
    "labels = le.fit_transform(df['sentiment'].values)\n",
    "x_train, x_test, y_train, y_test = train_test_split(df['review'].values, labels, test_size=0.2)\n",
    "\n",
    "#Tokenize text and transform it into tf-idf encoding\n",
    "def tokenizer(text):\n",
    "    return text.split()\n",
    "\n",
    "tfidf = TfidfVectorizer(strip_accents=None,\n",
    "                        lowercase=False,\n",
    "                        preprocessor=None,\n",
    "                        tokenizer=tokenizer)\n",
    "\n",
    "x_train = tfidf.fit_transform(x_train)\n",
    "x_test = tfidf.transform(x_test)\n",
    "\n",
    "#Define, fit and evaluate classifier\n",
    "clf = LogisticRegression(C=10.0, penalty='l2')\n",
    "clf.fit(x_train, y_train)\n",
    "print(\"Acc: \",clf.score(x_test, y_test))"
   ]
  }
 ],
 "metadata": {
  "kernelspec": {
   "display_name": "tf1.0_gpu",
   "language": "python",
   "name": "tf1.0_gpu"
  },
  "language_info": {
   "codemirror_mode": {
    "name": "ipython",
    "version": 3
   },
   "file_extension": ".py",
   "mimetype": "text/x-python",
   "name": "python",
   "nbconvert_exporter": "python",
   "pygments_lexer": "ipython3",
   "version": "3.7.4"
  }
 },
 "nbformat": 4,
 "nbformat_minor": 2
}
